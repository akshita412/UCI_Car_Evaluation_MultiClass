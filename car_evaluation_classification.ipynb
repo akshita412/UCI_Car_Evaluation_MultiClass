{
 "cells": [
  {
   "cell_type": "code",
   "execution_count": 1,
   "id": "35f0f5cb-b39e-4c34-a6da-eda9310a5f26",
   "metadata": {},
   "outputs": [],
   "source": [
    "import warnings\n",
    "warnings.filterwarnings(\"ignore\")"
   ]
  },
  {
   "cell_type": "markdown",
   "id": "a67ee456-5d5c-407d-8b55-10bdb58759c6",
   "metadata": {},
   "source": [
    "### Import libraries"
   ]
  },
  {
   "cell_type": "code",
   "execution_count": 2,
   "id": "a85ab4ed-13fc-4e40-a4c6-640f0d39822b",
   "metadata": {},
   "outputs": [],
   "source": [
    "%matplotlib inline\n",
    "\n",
    "import pandas as pd\n",
    "import numpy as np\n",
    "\n",
    "from sklearn import neighbors, tree, linear_model\n",
    "from sklearn.model_selection import cross_val_score, train_test_split\n",
    "from sklearn.metrics import accuracy_score, plot_confusion_matrix\n",
    "from sklearn.model_selection import train_test_split\n",
    "from sklearn.preprocessing import MinMaxScaler\n",
    "from sklearn.model_selection import GridSearchCV, KFold\n",
    "from sklearn.metrics import f1_score\n",
    "from sklearn.metrics import precision_score\n",
    "from sklearn.metrics import recall_score\n",
    "from sklearn.metrics import confusion_matrix\n",
    "from sklearn.metrics import roc_auc_score\n",
    "from sklearn import linear_model\n",
    "from sklearn.model_selection import RepeatedStratifiedKFold\n",
    "from sklearn.svm import SVC\n",
    "from sklearn.metrics import roc_curve\n",
    "from sklearn.neighbors import KNeighborsClassifier\n",
    "from sklearn.preprocessing import OrdinalEncoder\n",
    "from sklearn.metrics import matthews_corrcoef\n",
    "from sklearn.metrics import cohen_kappa_score\n",
    "\n",
    "### Libraries for visualization\n",
    "import plotly.express as px\n",
    "import plotly.graph_objects as go\n",
    "import matplotlib.pyplot as plt\n",
    "from matplotlib.colors import ListedColormap\n",
    "import seaborn as sns\n",
    "from matplotlib import pyplot\n",
    "import scikitplot as skplt"
   ]
  },
  {
   "cell_type": "markdown",
   "id": "f7564e36-560c-4da9-8191-e7d750c62152",
   "metadata": {},
   "source": [
    "### Read the data and analyse"
   ]
  },
  {
   "cell_type": "code",
   "execution_count": 33,
   "id": "f0f24291-5232-4edf-9edf-aef9539024fb",
   "metadata": {},
   "outputs": [],
   "source": [
    "column_names= ['buying','maint','doors','persons','lug_boot','safety','rating']"
   ]
  },
  {
   "cell_type": "code",
   "execution_count": 34,
   "id": "87446a80-665a-4e21-91db-da594533462d",
   "metadata": {},
   "outputs": [
    {
     "data": {
      "text/html": [
       "<div><div id=e6d17f08-8427-4b20-83e0-e66a215b3c0c style=\"display:none; background-color:#9D6CFF; color:white; width:200px; height:30px; padding-left:5px; border-radius:4px; flex-direction:row; justify-content:space-around; align-items:center;\" onmouseover=\"this.style.backgroundColor='#BA9BF8'\" onmouseout=\"this.style.backgroundColor='#9D6CFF'\" onclick=\"window.commands?.execute('create-mitosheet-from-dataframe-output');\">See Full Dataframe in Mito</div> <script> if (window.commands.hasCommand('create-mitosheet-from-dataframe-output')) document.getElementById('e6d17f08-8427-4b20-83e0-e66a215b3c0c').style.display = 'flex' </script> <table border=\"1\" class=\"dataframe\">\n",
       "  <thead>\n",
       "    <tr style=\"text-align: right;\">\n",
       "      <th></th>\n",
       "      <th>buying</th>\n",
       "      <th>maint</th>\n",
       "      <th>doors</th>\n",
       "      <th>persons</th>\n",
       "      <th>lug_boot</th>\n",
       "      <th>safety</th>\n",
       "      <th>rating</th>\n",
       "    </tr>\n",
       "  </thead>\n",
       "  <tbody>\n",
       "    <tr>\n",
       "      <th>0</th>\n",
       "      <td>vhigh</td>\n",
       "      <td>vhigh</td>\n",
       "      <td>2</td>\n",
       "      <td>2</td>\n",
       "      <td>small</td>\n",
       "      <td>low</td>\n",
       "      <td>unacc</td>\n",
       "    </tr>\n",
       "    <tr>\n",
       "      <th>1</th>\n",
       "      <td>vhigh</td>\n",
       "      <td>vhigh</td>\n",
       "      <td>2</td>\n",
       "      <td>2</td>\n",
       "      <td>small</td>\n",
       "      <td>med</td>\n",
       "      <td>unacc</td>\n",
       "    </tr>\n",
       "    <tr>\n",
       "      <th>2</th>\n",
       "      <td>vhigh</td>\n",
       "      <td>vhigh</td>\n",
       "      <td>2</td>\n",
       "      <td>2</td>\n",
       "      <td>small</td>\n",
       "      <td>high</td>\n",
       "      <td>unacc</td>\n",
       "    </tr>\n",
       "    <tr>\n",
       "      <th>3</th>\n",
       "      <td>vhigh</td>\n",
       "      <td>vhigh</td>\n",
       "      <td>2</td>\n",
       "      <td>2</td>\n",
       "      <td>med</td>\n",
       "      <td>low</td>\n",
       "      <td>unacc</td>\n",
       "    </tr>\n",
       "    <tr>\n",
       "      <th>4</th>\n",
       "      <td>vhigh</td>\n",
       "      <td>vhigh</td>\n",
       "      <td>2</td>\n",
       "      <td>2</td>\n",
       "      <td>med</td>\n",
       "      <td>med</td>\n",
       "      <td>unacc</td>\n",
       "    </tr>\n",
       "  </tbody>\n",
       "</table></div>"
      ],
      "text/plain": [
       "  buying  maint doors persons lug_boot safety rating\n",
       "0  vhigh  vhigh     2       2    small    low  unacc\n",
       "1  vhigh  vhigh     2       2    small    med  unacc\n",
       "2  vhigh  vhigh     2       2    small   high  unacc\n",
       "3  vhigh  vhigh     2       2      med    low  unacc\n",
       "4  vhigh  vhigh     2       2      med    med  unacc"
      ]
     },
     "execution_count": 34,
     "metadata": {},
     "output_type": "execute_result"
    }
   ],
   "source": [
    "df=pd.read_csv('car_evaluation.csv',names= column_names, index_col= False)\n",
    "df.head()"
   ]
  },
  {
   "cell_type": "code",
   "execution_count": 35,
   "id": "2ad44900-78e5-4c4e-8ec1-fc1b5e98bc64",
   "metadata": {},
   "outputs": [
    {
     "data": {
      "text/plain": [
       "(1728, 7)"
      ]
     },
     "execution_count": 35,
     "metadata": {},
     "output_type": "execute_result"
    }
   ],
   "source": [
    "df.shape"
   ]
  },
  {
   "cell_type": "code",
   "execution_count": 36,
   "id": "9530e2df-c899-45f9-b888-601847868a65",
   "metadata": {},
   "outputs": [
    {
     "name": "stderr",
     "output_type": "stream",
     "text": [
      "Note: NumExpr detected 16 cores but \"NUMEXPR_MAX_THREADS\" not set, so enforcing safe limit of 8.\n",
      "NumExpr defaulting to 8 threads.\n"
     ]
    },
    {
     "name": "stdout",
     "output_type": "stream",
     "text": [
      "<class 'pandas.core.frame.DataFrame'>\n",
      "RangeIndex: 1728 entries, 0 to 1727\n",
      "Data columns (total 7 columns):\n",
      " #   Column    Non-Null Count  Dtype \n",
      "---  ------    --------------  ----- \n",
      " 0   buying    1728 non-null   object\n",
      " 1   maint     1728 non-null   object\n",
      " 2   doors     1728 non-null   object\n",
      " 3   persons   1728 non-null   object\n",
      " 4   lug_boot  1728 non-null   object\n",
      " 5   safety    1728 non-null   object\n",
      " 6   rating    1728 non-null   object\n",
      "dtypes: object(7)\n",
      "memory usage: 94.6+ KB\n",
      "None\n",
      "       buying  maint  doors persons lug_boot safety rating\n",
      "count    1728   1728   1728    1728     1728   1728   1728\n",
      "unique      4      4      4       3        3      3      4\n",
      "top     vhigh  vhigh  5more       4      big    low  unacc\n",
      "freq      432    432    432     576      576    576   1210\n"
     ]
    }
   ],
   "source": [
    "df.isnull().values.any()\n",
    "print(df.info())\n",
    "print(df.describe())"
   ]
  },
  {
   "cell_type": "markdown",
   "id": "0bddcbcb-08c0-4817-b488-3569e56d3b44",
   "metadata": {},
   "source": [
    "### Ordinal Encoding for the variables: buying, maint, lug_boot, safety"
   ]
  },
  {
   "cell_type": "code",
   "execution_count": 37,
   "id": "0ec49cde-a551-461b-b17f-9286e1c223e9",
   "metadata": {},
   "outputs": [
    {
     "name": "stdout",
     "output_type": "stream",
     "text": [
      "before:\n",
      "\n",
      "For buying:\n",
      "\n",
      "vhigh    432\n",
      "low      432\n",
      "med      432\n",
      "high     432\n",
      "Name: buying, dtype: int64\n",
      "\n",
      "For maint:\n",
      "\n",
      "vhigh    432\n",
      "low      432\n",
      "med      432\n",
      "high     432\n",
      "Name: maint, dtype: int64\n",
      "\n",
      "For lug_boot:\n",
      "\n",
      "big      576\n",
      "med      576\n",
      "small    576\n",
      "Name: lug_boot, dtype: int64\n",
      "\n",
      "For safety:\n",
      "\n",
      "low     576\n",
      "med     576\n",
      "high    576\n",
      "Name: safety, dtype: int64\n",
      "\n",
      "For rating:\n",
      "\n",
      "unacc    1210\n",
      "acc       384\n",
      "good       69\n",
      "vgood      65\n",
      "Name: rating, dtype: int64\n",
      "\n",
      "For doors:\n",
      "\n",
      "5more    432\n",
      "4        432\n",
      "3        432\n",
      "2        432\n",
      "Name: doors, dtype: int64\n",
      "\n",
      "For persons:\n",
      "\n",
      "4       576\n",
      "more    576\n",
      "2       576\n",
      "Name: persons, dtype: int64\n"
     ]
    }
   ],
   "source": [
    "### Checking the count \n",
    "print(\"before:\")\n",
    "print('\\nFor buying:\\n')\n",
    "print(df['buying'].value_counts())\n",
    "print('\\nFor maint:\\n')\n",
    "print(df['maint'].value_counts())\n",
    "print('\\nFor lug_boot:\\n')\n",
    "print(df['lug_boot'].value_counts())\n",
    "print('\\nFor safety:\\n')\n",
    "print(df['safety'].value_counts())\n",
    "print('\\nFor rating:\\n')\n",
    "print(df['rating'].value_counts())\n",
    "print('\\nFor doors:\\n')\n",
    "print(df['doors'].value_counts())\n",
    "print('\\nFor persons:\\n')\n",
    "print(df['persons'].value_counts())"
   ]
  },
  {
   "cell_type": "code",
   "execution_count": 38,
   "id": "32b8ee9a-3eb0-43c7-8f71-7ded84fee7a1",
   "metadata": {},
   "outputs": [
    {
     "data": {
      "text/html": [
       "<div><div id=010cf3ba-0b05-4572-8380-2c2a819803f6 style=\"display:none; background-color:#9D6CFF; color:white; width:200px; height:30px; padding-left:5px; border-radius:4px; flex-direction:row; justify-content:space-around; align-items:center;\" onmouseover=\"this.style.backgroundColor='#BA9BF8'\" onmouseout=\"this.style.backgroundColor='#9D6CFF'\" onclick=\"window.commands?.execute('create-mitosheet-from-dataframe-output');\">See Full Dataframe in Mito</div> <script> if (window.commands.hasCommand('create-mitosheet-from-dataframe-output')) document.getElementById('010cf3ba-0b05-4572-8380-2c2a819803f6').style.display = 'flex' </script> <table border=\"1\" class=\"dataframe\">\n",
       "  <thead>\n",
       "    <tr style=\"text-align: right;\">\n",
       "      <th></th>\n",
       "      <th>buying</th>\n",
       "      <th>maint</th>\n",
       "      <th>doors</th>\n",
       "      <th>persons</th>\n",
       "      <th>lug_boot</th>\n",
       "      <th>safety</th>\n",
       "      <th>rating</th>\n",
       "      <th>buying_mapped</th>\n",
       "      <th>maint_mapped</th>\n",
       "      <th>lugboot_mapped</th>\n",
       "      <th>safety_mapped</th>\n",
       "      <th>rating_mapped</th>\n",
       "    </tr>\n",
       "  </thead>\n",
       "  <tbody>\n",
       "    <tr>\n",
       "      <th>0</th>\n",
       "      <td>vhigh</td>\n",
       "      <td>vhigh</td>\n",
       "      <td>2</td>\n",
       "      <td>2</td>\n",
       "      <td>small</td>\n",
       "      <td>low</td>\n",
       "      <td>unacc</td>\n",
       "      <td>4</td>\n",
       "      <td>4</td>\n",
       "      <td>1</td>\n",
       "      <td>1</td>\n",
       "      <td>1</td>\n",
       "    </tr>\n",
       "    <tr>\n",
       "      <th>1</th>\n",
       "      <td>vhigh</td>\n",
       "      <td>vhigh</td>\n",
       "      <td>2</td>\n",
       "      <td>2</td>\n",
       "      <td>small</td>\n",
       "      <td>med</td>\n",
       "      <td>unacc</td>\n",
       "      <td>4</td>\n",
       "      <td>4</td>\n",
       "      <td>1</td>\n",
       "      <td>2</td>\n",
       "      <td>1</td>\n",
       "    </tr>\n",
       "    <tr>\n",
       "      <th>2</th>\n",
       "      <td>vhigh</td>\n",
       "      <td>vhigh</td>\n",
       "      <td>2</td>\n",
       "      <td>2</td>\n",
       "      <td>small</td>\n",
       "      <td>high</td>\n",
       "      <td>unacc</td>\n",
       "      <td>4</td>\n",
       "      <td>4</td>\n",
       "      <td>1</td>\n",
       "      <td>3</td>\n",
       "      <td>1</td>\n",
       "    </tr>\n",
       "    <tr>\n",
       "      <th>3</th>\n",
       "      <td>vhigh</td>\n",
       "      <td>vhigh</td>\n",
       "      <td>2</td>\n",
       "      <td>2</td>\n",
       "      <td>med</td>\n",
       "      <td>low</td>\n",
       "      <td>unacc</td>\n",
       "      <td>4</td>\n",
       "      <td>4</td>\n",
       "      <td>2</td>\n",
       "      <td>1</td>\n",
       "      <td>1</td>\n",
       "    </tr>\n",
       "    <tr>\n",
       "      <th>4</th>\n",
       "      <td>vhigh</td>\n",
       "      <td>vhigh</td>\n",
       "      <td>2</td>\n",
       "      <td>2</td>\n",
       "      <td>med</td>\n",
       "      <td>med</td>\n",
       "      <td>unacc</td>\n",
       "      <td>4</td>\n",
       "      <td>4</td>\n",
       "      <td>2</td>\n",
       "      <td>2</td>\n",
       "      <td>1</td>\n",
       "    </tr>\n",
       "  </tbody>\n",
       "</table></div>"
      ],
      "text/plain": [
       "  buying  maint doors persons lug_boot safety rating  buying_mapped  \\\n",
       "0  vhigh  vhigh     2       2    small    low  unacc              4   \n",
       "1  vhigh  vhigh     2       2    small    med  unacc              4   \n",
       "2  vhigh  vhigh     2       2    small   high  unacc              4   \n",
       "3  vhigh  vhigh     2       2      med    low  unacc              4   \n",
       "4  vhigh  vhigh     2       2      med    med  unacc              4   \n",
       "\n",
       "   maint_mapped  lugboot_mapped  safety_mapped  rating_mapped  \n",
       "0             4               1              1              1  \n",
       "1             4               1              2              1  \n",
       "2             4               1              3              1  \n",
       "3             4               2              1              1  \n",
       "4             4               2              2              1  "
      ]
     },
     "execution_count": 38,
     "metadata": {},
     "output_type": "execute_result"
    }
   ],
   "source": [
    "level4_mapper = {\"low\":1, \"med\":2, \"high\":3, \"vhigh\":4}\n",
    "lugboot_mapper = {\"small\":1, \"med\":2, \"big\":3}\n",
    "safety_mapper = {\"low\":1, \"med\":2, \"high\":3}\n",
    "df[\"buying_mapped\"] = df[\"buying\"].replace(level4_mapper)\n",
    "df[\"maint_mapped\"] = df[\"maint\"].replace(level4_mapper)\n",
    "df[\"lugboot_mapped\"] = df[\"lug_boot\"].replace(lugboot_mapper)\n",
    "df[\"safety_mapped\"] = df[\"safety\"].replace(safety_mapper)\n",
    "\n",
    "rating_mapper= {\"unacc\":1, \"acc\":2, \"good\":3, \"vgood\":4}\n",
    "df[\"rating_mapped\"] = df[\"rating\"].replace(rating_mapper)\n",
    "\n",
    "df.loc[df['doors'] == '5more', 'doors'] = 5\n",
    "df.loc[df['persons'] == 'more', 'persons'] = 5\n",
    "\n",
    "df.head()"
   ]
  },
  {
   "cell_type": "code",
   "execution_count": 39,
   "id": "af39663b-983c-45b8-9c25-b3ca335add7b",
   "metadata": {},
   "outputs": [
    {
     "data": {
      "text/html": [
       "<div><div id=417e31de-ac43-4dc4-8bc6-eab2b37cbc29 style=\"display:none; background-color:#9D6CFF; color:white; width:200px; height:30px; padding-left:5px; border-radius:4px; flex-direction:row; justify-content:space-around; align-items:center;\" onmouseover=\"this.style.backgroundColor='#BA9BF8'\" onmouseout=\"this.style.backgroundColor='#9D6CFF'\" onclick=\"window.commands?.execute('create-mitosheet-from-dataframe-output');\">See Full Dataframe in Mito</div> <script> if (window.commands.hasCommand('create-mitosheet-from-dataframe-output')) document.getElementById('417e31de-ac43-4dc4-8bc6-eab2b37cbc29').style.display = 'flex' </script> <table border=\"1\" class=\"dataframe\">\n",
       "  <thead>\n",
       "    <tr style=\"text-align: right;\">\n",
       "      <th></th>\n",
       "      <th>doors</th>\n",
       "      <th>persons</th>\n",
       "      <th>buying_mapped</th>\n",
       "      <th>maint_mapped</th>\n",
       "      <th>lugboot_mapped</th>\n",
       "      <th>safety_mapped</th>\n",
       "      <th>rating_mapped</th>\n",
       "    </tr>\n",
       "  </thead>\n",
       "  <tbody>\n",
       "    <tr>\n",
       "      <th>0</th>\n",
       "      <td>2</td>\n",
       "      <td>2</td>\n",
       "      <td>4</td>\n",
       "      <td>4</td>\n",
       "      <td>1</td>\n",
       "      <td>1</td>\n",
       "      <td>1</td>\n",
       "    </tr>\n",
       "    <tr>\n",
       "      <th>1</th>\n",
       "      <td>2</td>\n",
       "      <td>2</td>\n",
       "      <td>4</td>\n",
       "      <td>4</td>\n",
       "      <td>1</td>\n",
       "      <td>2</td>\n",
       "      <td>1</td>\n",
       "    </tr>\n",
       "    <tr>\n",
       "      <th>2</th>\n",
       "      <td>2</td>\n",
       "      <td>2</td>\n",
       "      <td>4</td>\n",
       "      <td>4</td>\n",
       "      <td>1</td>\n",
       "      <td>3</td>\n",
       "      <td>1</td>\n",
       "    </tr>\n",
       "    <tr>\n",
       "      <th>3</th>\n",
       "      <td>2</td>\n",
       "      <td>2</td>\n",
       "      <td>4</td>\n",
       "      <td>4</td>\n",
       "      <td>2</td>\n",
       "      <td>1</td>\n",
       "      <td>1</td>\n",
       "    </tr>\n",
       "    <tr>\n",
       "      <th>4</th>\n",
       "      <td>2</td>\n",
       "      <td>2</td>\n",
       "      <td>4</td>\n",
       "      <td>4</td>\n",
       "      <td>2</td>\n",
       "      <td>2</td>\n",
       "      <td>1</td>\n",
       "    </tr>\n",
       "  </tbody>\n",
       "</table></div>"
      ],
      "text/plain": [
       "  doors persons  buying_mapped  maint_mapped  lugboot_mapped  safety_mapped  \\\n",
       "0     2       2              4             4               1              1   \n",
       "1     2       2              4             4               1              2   \n",
       "2     2       2              4             4               1              3   \n",
       "3     2       2              4             4               2              1   \n",
       "4     2       2              4             4               2              2   \n",
       "\n",
       "   rating_mapped  \n",
       "0              1  \n",
       "1              1  \n",
       "2              1  \n",
       "3              1  \n",
       "4              1  "
      ]
     },
     "execution_count": 39,
     "metadata": {},
     "output_type": "execute_result"
    }
   ],
   "source": [
    "### Retaining only the required columns for modelling exercise\n",
    "df_model=df[['doors','persons','buying_mapped','maint_mapped','lugboot_mapped','safety_mapped','rating_mapped']]\n",
    "df_model.head()"
   ]
  },
  {
   "cell_type": "code",
   "execution_count": 40,
   "id": "67a42656-f7cb-40a7-b6e8-c7433aa005df",
   "metadata": {},
   "outputs": [
    {
     "name": "stdout",
     "output_type": "stream",
     "text": [
      "after:\n",
      "\n",
      "For buying:\n",
      "\n",
      "1    432\n",
      "2    432\n",
      "3    432\n",
      "4    432\n",
      "Name: buying_mapped, dtype: int64\n",
      "\n",
      "For maint:\n",
      "\n",
      "1    432\n",
      "2    432\n",
      "3    432\n",
      "4    432\n",
      "Name: maint_mapped, dtype: int64\n",
      "\n",
      "For lug_boot:\n",
      "\n",
      "1    576\n",
      "2    576\n",
      "3    576\n",
      "Name: lugboot_mapped, dtype: int64\n",
      "\n",
      "For safety:\n",
      "\n",
      "1    576\n",
      "2    576\n",
      "3    576\n",
      "Name: safety_mapped, dtype: int64\n",
      "\n",
      "For rating:\n",
      "\n",
      "1    1210\n",
      "2     384\n",
      "3      69\n",
      "4      65\n",
      "Name: rating_mapped, dtype: int64\n",
      "\n",
      "For doors:\n",
      "\n",
      "5    432\n",
      "4    432\n",
      "3    432\n",
      "2    432\n",
      "Name: doors, dtype: int64\n",
      "\n",
      "For persons:\n",
      "\n",
      "5    576\n",
      "4    576\n",
      "2    576\n",
      "Name: persons, dtype: int64\n"
     ]
    }
   ],
   "source": [
    "### Checking the count \n",
    "print(\"after:\")\n",
    "print('\\nFor buying:\\n')\n",
    "print(df['buying_mapped'].value_counts())\n",
    "print('\\nFor maint:\\n')\n",
    "print(df['maint_mapped'].value_counts())\n",
    "print('\\nFor lug_boot:\\n')\n",
    "print(df['lugboot_mapped'].value_counts())\n",
    "print('\\nFor safety:\\n')\n",
    "print(df['safety_mapped'].value_counts())\n",
    "print('\\nFor rating:\\n')\n",
    "print(df['rating_mapped'].value_counts())\n",
    "print('\\nFor doors:\\n')\n",
    "print(df['doors'].value_counts())\n",
    "print('\\nFor persons:\\n')\n",
    "print(df['persons'].value_counts())"
   ]
  },
  {
   "cell_type": "code",
   "execution_count": 41,
   "id": "6afa8d4f-dd25-4d03-a049-f6c78d09f3e5",
   "metadata": {},
   "outputs": [],
   "source": [
    "### As per the data website there are no nulls in the dataset\n",
    "### Ordinal mapping has been used instead of categorical variable conversion to retain the order\n",
    "### Higher weight assigned to better ratings and vice versa"
   ]
  },
  {
   "cell_type": "code",
   "execution_count": 42,
   "id": "a6e5562b-47ea-4096-a6d8-1e8adb7a601e",
   "metadata": {},
   "outputs": [
    {
     "data": {
      "image/png": "[encoded data removed]",
      "text/plain": [
       "<Figure size 939.125x864 with 20 Axes>"
      ]
     },
     "metadata": {},
     "output_type": "display_data"
    }
   ],
   "source": [
    "plt.close()\n",
    "sns.set_style('whitegrid');\n",
    "sns.pairplot(df_model, hue='rating_mapped', height=3);\n",
    "plt.show()"
   ]
  },
  {
   "cell_type": "markdown",
   "id": "2197206c-3e87-4142-8050-c4c5e661b163",
   "metadata": {},
   "source": [
    "## Training the models by nested CV for multi class classification"
   ]
  },
  {
   "cell_type": "code",
   "execution_count": 43,
   "id": "9a1f3117-aca3-417b-a21a-6e292b464418",
   "metadata": {},
   "outputs": [
    {
     "data": {
      "text/html": [
       "<div><div id=622ba71a-f37c-4aff-85f6-efa7413f8960 style=\"display:none; background-color:#9D6CFF; color:white; width:200px; height:30px; padding-left:5px; border-radius:4px; flex-direction:row; justify-content:space-around; align-items:center;\" onmouseover=\"this.style.backgroundColor='#BA9BF8'\" onmouseout=\"this.style.backgroundColor='#9D6CFF'\" onclick=\"window.commands?.execute('create-mitosheet-from-dataframe-output');\">See Full Dataframe in Mito</div> <script> if (window.commands.hasCommand('create-mitosheet-from-dataframe-output')) document.getElementById('622ba71a-f37c-4aff-85f6-efa7413f8960').style.display = 'flex' </script> <table border=\"1\" class=\"dataframe\">\n",
       "  <thead>\n",
       "    <tr style=\"text-align: right;\">\n",
       "      <th></th>\n",
       "      <th>doors</th>\n",
       "      <th>persons</th>\n",
       "      <th>buying_mapped</th>\n",
       "      <th>maint_mapped</th>\n",
       "      <th>lugboot_mapped</th>\n",
       "      <th>safety_mapped</th>\n",
       "    </tr>\n",
       "  </thead>\n",
       "  <tbody>\n",
       "    <tr>\n",
       "      <th>0</th>\n",
       "      <td>2</td>\n",
       "      <td>2</td>\n",
       "      <td>4</td>\n",
       "      <td>4</td>\n",
       "      <td>1</td>\n",
       "      <td>1</td>\n",
       "    </tr>\n",
       "    <tr>\n",
       "      <th>1</th>\n",
       "      <td>2</td>\n",
       "      <td>2</td>\n",
       "      <td>4</td>\n",
       "      <td>4</td>\n",
       "      <td>1</td>\n",
       "      <td>2</td>\n",
       "    </tr>\n",
       "    <tr>\n",
       "      <th>2</th>\n",
       "      <td>2</td>\n",
       "      <td>2</td>\n",
       "      <td>4</td>\n",
       "      <td>4</td>\n",
       "      <td>1</td>\n",
       "      <td>3</td>\n",
       "    </tr>\n",
       "    <tr>\n",
       "      <th>3</th>\n",
       "      <td>2</td>\n",
       "      <td>2</td>\n",
       "      <td>4</td>\n",
       "      <td>4</td>\n",
       "      <td>2</td>\n",
       "      <td>1</td>\n",
       "    </tr>\n",
       "    <tr>\n",
       "      <th>4</th>\n",
       "      <td>2</td>\n",
       "      <td>2</td>\n",
       "      <td>4</td>\n",
       "      <td>4</td>\n",
       "      <td>2</td>\n",
       "      <td>2</td>\n",
       "    </tr>\n",
       "  </tbody>\n",
       "</table></div>"
      ],
      "text/plain": [
       "  doors persons  buying_mapped  maint_mapped  lugboot_mapped  safety_mapped\n",
       "0     2       2              4             4               1              1\n",
       "1     2       2              4             4               1              2\n",
       "2     2       2              4             4               1              3\n",
       "3     2       2              4             4               2              1\n",
       "4     2       2              4             4               2              2"
      ]
     },
     "metadata": {},
     "output_type": "display_data"
    },
    {
     "name": "stdout",
     "output_type": "stream",
     "text": [
      "\n",
      " displaying target variable Y: \n"
     ]
    },
    {
     "data": {
      "text/plain": [
       "array([1, 1, 1, 1, 1], dtype=int64)"
      ]
     },
     "execution_count": 43,
     "metadata": {},
     "output_type": "execute_result"
    }
   ],
   "source": [
    "#create a dataframe with all training data except the target column\n",
    "X = df_model.drop(columns=['rating_mapped'])\n",
    "#check that the target variable has been removed\n",
    "display(X.head())\n",
    "\n",
    "#separate target values\n",
    "y = df_model['rating_mapped'].values\n",
    "#view target values\n",
    "print(\"\\n displaying target variable Y: \")\n",
    "y[0:5]"
   ]
  },
  {
   "cell_type": "code",
   "execution_count": 44,
   "id": "c0f84a26-e06a-4e3f-8d77-52e338c27597",
   "metadata": {},
   "outputs": [],
   "source": [
    "#split dataset into train and test data\n",
    "X_train, X_test, y_train, y_test = train_test_split(X, y, test_size=0.3,\n",
    "                                        random_state=1, stratify=y)"
   ]
  },
  {
   "cell_type": "code",
   "execution_count": 45,
   "id": "c912dfee-7fbc-4148-bc33-ea8d24217ff0",
   "metadata": {},
   "outputs": [
    {
     "name": "stdout",
     "output_type": "stream",
     "text": [
      "(1209, 6) (519, 6)\n"
     ]
    }
   ],
   "source": [
    "### Scaling the dataset\n",
    "scaler = MinMaxScaler()\n",
    "# transform data\n",
    "X_train_scaled = scaler.fit_transform(X_train)\n",
    "X_test_scaled = scaler.fit_transform(X_test)\n",
    "print(X_train_scaled.shape, X_test_scaled.shape)"
   ]
  },
  {
   "cell_type": "markdown",
   "id": "87f30d9a-deee-471e-bb6f-a4c5f62f43ac",
   "metadata": {},
   "source": [
    "### KNN Multi class classifier"
   ]
  },
  {
   "cell_type": "code",
   "execution_count": 46,
   "id": "427a0e30-41d8-418d-aeb9-74eaadb86bc2",
   "metadata": {},
   "outputs": [],
   "source": [
    "### Initializing grid for identifying best paramters\n",
    "grid_params_knn= {'n_neighbors':range(5,20),\n",
    "                  'weights':['uniform','distance'],\n",
    "                  'metric':['euclidean','manhattan','minkowski']}\n",
    "# KNN Classifier\n",
    "model = KNeighborsClassifier()\n",
    "NUM_TRIALS= 5\n",
    "# Arrays to store scores\n",
    "non_nested_scores = np.zeros(NUM_TRIALS)\n",
    "nested_scores = np.zeros(NUM_TRIALS)\n",
    "\n",
    "# Loop for each trial\n",
    "for i in range(NUM_TRIALS):\n",
    "\n",
    "    inner_cv = RepeatedStratifiedKFold(n_splits=3, n_repeats=3, random_state=i)\n",
    "    outer_cv = RepeatedStratifiedKFold(n_splits=3, n_repeats=3, random_state=i)\n",
    "\n",
    "    # Non_nested parameter search and scoring\n",
    "    clf = GridSearchCV(estimator=model, param_grid=grid_params_knn, cv=inner_cv, scoring='accuracy')\n",
    "    clf.fit(X_train_scaled, y_train)\n",
    "    non_nested_scores[i] = clf.best_score_\n",
    "\n",
    "    # Nested CV with parameter optimization\n",
    "    nested_score = cross_val_score(clf, X=X_train_scaled, y=y_train, cv=outer_cv)\n",
    "    nested_scores[i] = nested_score.mean()"
   ]
  },
  {
   "cell_type": "code",
   "execution_count": 47,
   "id": "f4b72065-a599-4641-8539-0f965e3d2cc4",
   "metadata": {},
   "outputs": [
    {
     "name": "stdout",
     "output_type": "stream",
     "text": [
      "{'metric': 'manhattan', 'n_neighbors': 8, 'weights': 'distance'}\n",
      "Average non_nested_scores 0.951696 and average nested_scores 0.946678.\n",
      "Average difference of 0.005018 with std. dev. of 0.002624.\n"
     ]
    }
   ],
   "source": [
    "### Model performance\n",
    "score_difference = non_nested_scores - nested_scores\n",
    "print(clf.best_params_)\n",
    "print(\"Average non_nested_scores {0:6f} and average nested_scores {1:6f}.\"\n",
    "      .format(non_nested_scores.mean(), nested_scores.mean()))\n",
    "print(\"Average difference of {0:6f} with std. dev. of {1:6f}.\"\n",
    "      .format(score_difference.mean(), score_difference.std()))"
   ]
  },
  {
   "cell_type": "code",
   "execution_count": 48,
   "id": "20021af3-4d53-4e69-98f4-7fdc3a698a10",
   "metadata": {},
   "outputs": [
    {
     "data": {
      "text/plain": [
       "KNeighborsClassifier(metric='manhattan', n_neighbors=8, weights='distance')"
      ]
     },
     "execution_count": 48,
     "metadata": {},
     "output_type": "execute_result"
    }
   ],
   "source": [
    "### Training the model based on hyperparameter tuning by grid search\n",
    "clf_knn = KNeighborsClassifier(metric='manhattan', \n",
    "              n_neighbors=8, \n",
    "              weights='distance')\n",
    "### using standardized data because using regularization\n",
    "clf_knn.fit(X_train_scaled, y_train)"
   ]
  },
  {
   "cell_type": "code",
   "execution_count": 49,
   "id": "c148cb4d-94d7-49ae-96f7-9131b3b8da18",
   "metadata": {},
   "outputs": [],
   "source": [
    "### Fitting the model on the test data\n",
    "y_test_hat=clf_knn.predict(X_test_scaled) "
   ]
  },
  {
   "cell_type": "code",
   "execution_count": 50,
   "id": "a91d0f7c-6c6f-47ae-b3ad-1939945c7cfc",
   "metadata": {},
   "outputs": [
    {
     "name": "stdout",
     "output_type": "stream",
     "text": [
      "Accuracy for the testing dataset with tuning is : 96.92%\n",
      "F-Measure: 0.969\n",
      "Recall: 0.969\n",
      "Precision: 0.970\n",
      "MCC: 0.933\n",
      "Cohen's Kappa Score: 0.933\n",
      "\n",
      "Test confusion_matrix\n",
      "[[359   4   0   0]\n",
      " [  3 110   2   0]\n",
      " [  0   3  18   0]\n",
      " [  0   4   0  16]]\n"
     ]
    },
    {
     "data": {
      "text/plain": [
       "Text(34.0, 0.5, 'True')"
      ]
     },
     "execution_count": 50,
     "metadata": {},
     "output_type": "execute_result"
    },
    {
     "data": {
      "image/png": "[encoded data removed]",
      "text/plain": [
       "<Figure size 432x288 with 2 Axes>"
      ]
     },
     "metadata": {},
     "output_type": "display_data"
    }
   ],
   "source": [
    "test_accuracy=accuracy_score(y_test,y_test_hat)*100\n",
    "print(\"Accuracy for the testing dataset with tuning is : {:.2f}%\".\n",
    "      format(test_accuracy) )\n",
    "test_fscore = f1_score(y_test, y_test_hat, average='weighted')\n",
    "print('F-Measure: %.3f' % test_fscore)\n",
    "test_recall = recall_score(y_test, y_test_hat, average='weighted')\n",
    "print('Recall: %.3f' % test_recall)\n",
    "test_precision = precision_score(y_test, y_test_hat, average='weighted')\n",
    "print('Precision: %.3f' % test_precision)\n",
    "cf_matrix = confusion_matrix(y_test, y_test_hat)\n",
    "print(\"MCC: %.3f\"% matthews_corrcoef(y_test, y_test_hat))\n",
    "print(\"Cohen's Kappa Score: %.3f\"% cohen_kappa_score(y_test, y_test_hat))\n",
    "print(\"\\nTest confusion_matrix\")\n",
    "print(cf_matrix)\n",
    "sns.heatmap(cf_matrix, cmap='Blues', annot= True)\n",
    "plt.xlabel('Predicted', fontsize=12)\n",
    "plt.ylabel('True', fontsize=12)"
   ]
  },
  {
   "cell_type": "markdown",
   "id": "46eb716a-d8fc-4834-8ddd-c387b0e99762",
   "metadata": {},
   "source": [
    "### Logistic Regression multi class classifier"
   ]
  },
  {
   "cell_type": "code",
   "execution_count": 51,
   "id": "90ebd46a-e90b-4ad5-a93e-ca489c8fa778",
   "metadata": {},
   "outputs": [],
   "source": [
    "## using Grid Search CV\n",
    "model = linear_model.LogisticRegression(solver='lbfgs', multi_class='multinomial')\n",
    "# define evaluation\n",
    "cv = RepeatedStratifiedKFold(n_splits=10, n_repeats=3, random_state=1)\n",
    "# define search space\n",
    "space = dict()\n",
    "space['penalty'] = ['l1', 'l2', 'elasticnet']\n",
    "space['C'] = [1e-5, 1e-4, 1e-3, 1e-2, 1e-1, 1, 10, 100]\n",
    "\n",
    "NUM_TRIALS= 5\n",
    "# Arrays to store scores\n",
    "non_nested_scores = np.zeros(NUM_TRIALS)\n",
    "nested_scores = np.zeros(NUM_TRIALS)\n",
    "\n",
    "# Loop for each trial\n",
    "for i in range(NUM_TRIALS):\n",
    "\n",
    "    inner_cv = RepeatedStratifiedKFold(n_splits=3, n_repeats=3, random_state=i)\n",
    "    outer_cv = RepeatedStratifiedKFold(n_splits=3, n_repeats=3, random_state=i)\n",
    "\n",
    "    # Non_nested parameter search and scoring\n",
    "    clf = GridSearchCV(estimator=model, param_grid=space, cv=inner_cv, scoring='accuracy')\n",
    "    clf.fit(X_train_scaled, y_train)\n",
    "    non_nested_scores[i] = clf.best_score_\n",
    "\n",
    "    # Nested CV with parameter optimization\n",
    "    nested_score = cross_val_score(clf, X=X_train_scaled, y=y_train, cv=outer_cv)\n",
    "    nested_scores[i] = nested_score.mean()"
   ]
  },
  {
   "cell_type": "code",
   "execution_count": 52,
   "id": "5e1245bd-dfc0-44ac-aafa-8aed88727884",
   "metadata": {},
   "outputs": [
    {
     "name": "stdout",
     "output_type": "stream",
     "text": [
      "{'C': 100, 'penalty': 'l2'}\n",
      "Average non_nested_scores 0.853874 and average nested_scores 0.853874.\n",
      "Average difference of 0.000000 with std. dev. of 0.000000.\n"
     ]
    }
   ],
   "source": [
    "### Model performance\n",
    "score_difference = non_nested_scores - nested_scores\n",
    "print(clf.best_params_)\n",
    "print(\"Average non_nested_scores {0:6f} and average nested_scores {1:6f}.\"\n",
    "      .format(non_nested_scores.mean(), nested_scores.mean()))\n",
    "print(\"Average difference of {0:6f} with std. dev. of {1:6f}.\"\n",
    "      .format(score_difference.mean(), score_difference.std()))"
   ]
  },
  {
   "cell_type": "code",
   "execution_count": 53,
   "id": "78ce5606-7990-4ec3-91b5-148e3371a8a9",
   "metadata": {},
   "outputs": [
    {
     "data": {
      "text/plain": [
       "LogisticRegression(C=100, multi_class='multinomial')"
      ]
     },
     "execution_count": 53,
     "metadata": {},
     "output_type": "execute_result"
    }
   ],
   "source": [
    "### Training the model based on hyperparameter tuning by grid search\n",
    "clf3 = linear_model.LogisticRegression(C=100,solver ='lbfgs', multi_class='multinomial',\n",
    "                                       penalty='l2')\n",
    "### using standardized data because using regularization\n",
    "clf3.fit(X_train_scaled, y_train)"
   ]
  },
  {
   "cell_type": "code",
   "execution_count": 54,
   "id": "35d2ab14-ff05-47f2-a511-d139738c573b",
   "metadata": {},
   "outputs": [],
   "source": [
    "### Fitting the model on the test data\n",
    "y_test_hat=clf3.predict(X_test_scaled) "
   ]
  },
  {
   "cell_type": "code",
   "execution_count": 55,
   "id": "54746052-5184-491e-a50e-acb9a8138b96",
   "metadata": {},
   "outputs": [
    {
     "name": "stdout",
     "output_type": "stream",
     "text": [
      "Accuracy for the testing dataset with tuning is : 84.39%\n",
      "F-Measure: 0.839\n",
      "Recall: 0.844\n",
      "Precision: 0.837\n",
      "MCC: 0.650\n",
      "Cohen's Kappa Score: 0.648\n",
      "\n",
      "Test confusion_matrix\n",
      "[[341  21   1   0]\n",
      " [ 37  69   3   6]\n",
      " [  0  11  10   0]\n",
      " [  0   2   0  18]]\n"
     ]
    },
    {
     "data": {
      "text/plain": [
       "Text(34.0, 0.5, 'True')"
      ]
     },
     "execution_count": 55,
     "metadata": {},
     "output_type": "execute_result"
    },
    {
     "data": {
      "image/png": "[encoded data removed]",
      "text/plain": [
       "<Figure size 432x288 with 2 Axes>"
      ]
     },
     "metadata": {},
     "output_type": "display_data"
    }
   ],
   "source": [
    "test_accuracy=accuracy_score(y_test,y_test_hat)*100\n",
    "print(\"Accuracy for the testing dataset with tuning is : {:.2f}%\".\n",
    "      format(test_accuracy) )\n",
    "test_fscore = f1_score(y_test, y_test_hat, average='weighted')\n",
    "print('F-Measure: %.3f' % test_fscore)\n",
    "test_recall = recall_score(y_test, y_test_hat, average='weighted')\n",
    "print('Recall: %.3f' % test_recall)\n",
    "test_precision = precision_score(y_test, y_test_hat, average='weighted')\n",
    "print('Precision: %.3f' % test_precision)\n",
    "cf_matrix = confusion_matrix(y_test, y_test_hat)\n",
    "print(\"MCC: %.3f\"% matthews_corrcoef(y_test, y_test_hat))\n",
    "print(\"Cohen's Kappa Score: %.3f\"% cohen_kappa_score(y_test, y_test_hat))\n",
    "print(\"\\nTest confusion_matrix\")\n",
    "print(cf_matrix)\n",
    "sns.heatmap(cf_matrix, cmap='Blues', annot= True)\n",
    "plt.xlabel('Predicted', fontsize=12)\n",
    "plt.ylabel('True', fontsize=12)"
   ]
  },
  {
   "cell_type": "markdown",
   "id": "b5d4dec6-fcb3-4f9b-9871-5807a190d48b",
   "metadata": {},
   "source": [
    "### Decision tree multi class classifier"
   ]
  },
  {
   "cell_type": "code",
   "execution_count": 56,
   "id": "1138246a-5412-4fea-b3e2-9dec1f3fbd03",
   "metadata": {},
   "outputs": [],
   "source": [
    "### Initializing grid for identifying best paramters\n",
    "grid_params_dt= {'max_depth':range(2,5), \n",
    "                 'min_samples_leaf':range(1,5),\n",
    "                 'min_samples_split':range(1,10),\n",
    "                 'class_weight': ['balanced']}\n",
    "# KNN Classifier\n",
    "model = tree.DecisionTreeClassifier()\n",
    "NUM_TRIALS= 5\n",
    "# Arrays to store scores\n",
    "non_nested_scores = np.zeros(NUM_TRIALS)\n",
    "nested_scores = np.zeros(NUM_TRIALS)\n",
    "\n",
    "# Loop for each trial\n",
    "for i in range(NUM_TRIALS):\n",
    "\n",
    "    inner_cv = RepeatedStratifiedKFold(n_splits=3, n_repeats=3, random_state=i)\n",
    "    outer_cv = RepeatedStratifiedKFold(n_splits=3, n_repeats=3, random_state=i)\n",
    "\n",
    "    # Non_nested parameter search and scoring\n",
    "    clf = GridSearchCV(estimator=model, param_grid=grid_params_dt, cv=inner_cv, scoring='accuracy')\n",
    "    clf.fit(X_train_scaled, y_train)\n",
    "    non_nested_scores[i] = clf.best_score_\n",
    "\n",
    "    # Nested CV with parameter optimization\n",
    "    nested_score = cross_val_score(clf, X=X_train_scaled, y=y_train, cv=outer_cv)\n",
    "    nested_scores[i] = nested_score.mean()"
   ]
  },
  {
   "cell_type": "code",
   "execution_count": 57,
   "id": "eb426e15-8e39-4056-aa9d-09a8a295c628",
   "metadata": {},
   "outputs": [
    {
     "name": "stdout",
     "output_type": "stream",
     "text": [
      "{'class_weight': 'balanced', 'max_depth': 4, 'min_samples_leaf': 1, 'min_samples_split': 2}\n",
      "Average non_nested_scores 0.746788 and average nested_scores 0.746788.\n",
      "Average difference of 0.000000 with std. dev. of 0.000000.\n"
     ]
    }
   ],
   "source": [
    "### Model performance\n",
    "score_difference = non_nested_scores - nested_scores\n",
    "print(clf.best_params_)\n",
    "print(\"Average non_nested_scores {0:6f} and average nested_scores {1:6f}.\"\n",
    "      .format(non_nested_scores.mean(), nested_scores.mean()))\n",
    "print(\"Average difference of {0:6f} with std. dev. of {1:6f}.\"\n",
    "      .format(score_difference.mean(), score_difference.std()))"
   ]
  },
  {
   "cell_type": "code",
   "execution_count": 58,
   "id": "6036f25e-8f38-4a92-95ef-aeb5a144d5dc",
   "metadata": {},
   "outputs": [
    {
     "data": {
      "text/plain": [
       "DecisionTreeClassifier(class_weight='balanced', max_depth=4)"
      ]
     },
     "execution_count": 58,
     "metadata": {},
     "output_type": "execute_result"
    }
   ],
   "source": [
    "### Training the model based on hyperparameter tuning by grid search\n",
    "clf3 = tree.DecisionTreeClassifier(criterion='gini',\n",
    "                                   max_depth=4,\n",
    "                                   min_samples_leaf=1,\n",
    "                                   min_samples_split=2,\n",
    "                                   class_weight = 'balanced')\n",
    "### using standardized data because using regularization\n",
    "clf3.fit(X_train_scaled, y_train)"
   ]
  },
  {
   "cell_type": "code",
   "execution_count": 59,
   "id": "1cb7c556-c087-4f44-8055-749ce1680dcc",
   "metadata": {},
   "outputs": [],
   "source": [
    "### Fitting the model on the test data\n",
    "y_test_hat=clf3.predict(X_test_scaled) "
   ]
  },
  {
   "cell_type": "code",
   "execution_count": 60,
   "id": "8539363a-ad78-4747-a8dd-c90c167a4e33",
   "metadata": {},
   "outputs": [
    {
     "name": "stdout",
     "output_type": "stream",
     "text": [
      "Accuracy for the testing dataset with tuning is : 72.25%\n",
      "F-Measure: 0.761\n",
      "Recall: 0.723\n",
      "Precision: 0.859\n",
      "MCC: 0.558\n",
      "Cohen's Kappa Score: 0.524\n",
      "\n",
      "Test confusion_matrix\n",
      "[[266  43  31  23]\n",
      " [  0  69  30  16]\n",
      " [  0   0  20   1]\n",
      " [  0   0   0  20]]\n"
     ]
    },
    {
     "data": {
      "text/plain": [
       "Text(34.0, 0.5, 'True')"
      ]
     },
     "execution_count": 60,
     "metadata": {},
     "output_type": "execute_result"
    },
    {
     "data": {
      "image/png": "[encoded data removed]",
      "text/plain": [
       "<Figure size 432x288 with 2 Axes>"
      ]
     },
     "metadata": {},
     "output_type": "display_data"
    }
   ],
   "source": [
    "test_accuracy=accuracy_score(y_test,y_test_hat)*100\n",
    "print(\"Accuracy for the testing dataset with tuning is : {:.2f}%\".\n",
    "      format(test_accuracy) )\n",
    "test_fscore = f1_score(y_test, y_test_hat, average='weighted')\n",
    "print('F-Measure: %.3f' % test_fscore)\n",
    "test_recall = recall_score(y_test, y_test_hat, average='weighted')\n",
    "print('Recall: %.3f' % test_recall)\n",
    "test_precision = precision_score(y_test, y_test_hat, average='weighted')\n",
    "print('Precision: %.3f' % test_precision)\n",
    "cf_matrix = confusion_matrix(y_test, y_test_hat)\n",
    "print(\"MCC: %.3f\"% matthews_corrcoef(y_test, y_test_hat))\n",
    "print(\"Cohen's Kappa Score: %.3f\"% cohen_kappa_score(y_test, y_test_hat))\n",
    "print(\"\\nTest confusion_matrix\")\n",
    "print(cf_matrix)\n",
    "sns.heatmap(cf_matrix, cmap='Blues', annot= True)\n",
    "plt.xlabel('Predicted', fontsize=12)\n",
    "plt.ylabel('True', fontsize=12)"
   ]
  },
  {
   "cell_type": "markdown",
   "id": "49d4b885-0e57-4110-be6b-cdef6663f2e2",
   "metadata": {},
   "source": [
    "### SVM classification for multi class classifier"
   ]
  },
  {
   "cell_type": "code",
   "execution_count": null,
   "id": "6c0b1e1d-4d31-4f6b-bdad-56fc6ac56f8c",
   "metadata": {},
   "outputs": [],
   "source": [
    "# Set up possible values of parameters to optimize over\n",
    "p_grid = [{'kernel': ['rbf','poly'], \n",
    "           'gamma': [1e-3, 0.5, 1, 10],\n",
    "           'C': [0.1, 1, 10]}]\n",
    "# Support Vector Classifier\n",
    "model = SVC()\n",
    "NUM_TRIALS= 5\n",
    "# Arrays to store scores\n",
    "non_nested_scores = np.zeros(NUM_TRIALS)\n",
    "nested_scores = np.zeros(NUM_TRIALS)\n",
    "\n",
    "# Loop for each trial\n",
    "for i in range(NUM_TRIALS):\n",
    "\n",
    "    inner_cv = RepeatedStratifiedKFold(n_splits=3, n_repeats=3, random_state=i)\n",
    "    outer_cv = RepeatedStratifiedKFold(n_splits=3, n_repeats=3, random_state=i)\n",
    "\n",
    "    # Non_nested parameter search and scoring\n",
    "    clf = GridSearchCV(estimator=model, param_grid=p_grid, cv=inner_cv, scoring='accuracy')\n",
    "    clf.fit(X_train_scaled, y_train)\n",
    "    non_nested_scores[i] = clf.best_score_\n",
    "\n",
    "    # Nested CV with parameter optimization\n",
    "    nested_score = cross_val_score(clf, X=X_train_scaled, y=y_train, cv=outer_cv)\n",
    "    nested_scores[i] = nested_score.mean()\n",
    "    print(i)"
   ]
  },
  {
   "cell_type": "code",
   "execution_count": 62,
   "id": "9f7ec95e-2a51-4cc4-b0f5-af3c3935b97a",
   "metadata": {},
   "outputs": [],
   "source": [
    "### Training the model based on hyperparameter tuning by grid search\n",
    "clf_svm = SVC(C=10,\n",
    "              gamma= 1,\n",
    "              kernel= 'rbf',)\n",
    "### using standardized data because using regularization\n",
    "clf_svm.fit(X_train_scaled, y_train)\n",
    "\n",
    "### Fitting the model on the test data\n",
    "y_test_hat=clf_svm.predict(X_test_scaled) "
   ]
  },
  {
   "cell_type": "code",
   "execution_count": 63,
   "id": "ec7c0bdb-8a37-484d-be7e-e971ba19da7b",
   "metadata": {},
   "outputs": [
    {
     "name": "stdout",
     "output_type": "stream",
     "text": [
      "Accuracy for the testing dataset with tuning is : 97.50%\n",
      "F-Measure: 0.975\n",
      "Recall: 0.975\n",
      "Precision: 0.975\n",
      "MCC: 0.945\n",
      "Cohen's Kappa Score: 0.945\n",
      "\n",
      "Test confusion_matrix\n",
      "[[360   3   0   0]\n",
      " [  3 109   2   1]\n",
      " [  2   2  17   0]\n",
      " [  0   0   0  20]]\n"
     ]
    },
    {
     "data": {
      "text/plain": [
       "Text(34.0, 0.5, 'True')"
      ]
     },
     "execution_count": 63,
     "metadata": {},
     "output_type": "execute_result"
    },
    {
     "data": {
      "image/png": "[encoded data removed]",
      "text/plain": [
       "<Figure size 432x288 with 2 Axes>"
      ]
     },
     "metadata": {},
     "output_type": "display_data"
    }
   ],
   "source": [
    "test_accuracy=accuracy_score(y_test,y_test_hat)*100\n",
    "print(\"Accuracy for the testing dataset with tuning is : {:.2f}%\".\n",
    "      format(test_accuracy) )\n",
    "test_fscore = f1_score(y_test, y_test_hat, average='weighted')\n",
    "print('F-Measure: %.3f' % test_fscore)\n",
    "test_recall = recall_score(y_test, y_test_hat, average='weighted')\n",
    "print('Recall: %.3f' % test_recall)\n",
    "test_precision = precision_score(y_test, y_test_hat, average='weighted')\n",
    "print('Precision: %.3f' % test_precision)\n",
    "cf_matrix = confusion_matrix(y_test, y_test_hat)\n",
    "print(\"MCC: %.3f\"% matthews_corrcoef(y_test, y_test_hat))\n",
    "print(\"Cohen's Kappa Score: %.3f\"% cohen_kappa_score(y_test, y_test_hat))\n",
    "print(\"\\nTest confusion_matrix\")\n",
    "print(cf_matrix)\n",
    "sns.heatmap(cf_matrix, cmap='Blues', annot= True)\n",
    "plt.xlabel('Predicted', fontsize=12)\n",
    "plt.ylabel('True', fontsize=12)"
   ]
  },
  {
   "cell_type": "markdown",
   "id": "de3f75ec-004c-4da0-9f0c-e4d207e5424f",
   "metadata": {},
   "source": [
    "### Summary of results"
   ]
  },
  {
   "cell_type": "code",
   "execution_count": 64,
   "id": "4a47b9a1-17dc-49aa-99f0-c0cf2694642b",
   "metadata": {},
   "outputs": [],
   "source": [
    "Results_test_data = {\n",
    "    'Model Name':['SVM','Decision Tree','Logistic Regression','KNN'],\n",
    "    'Accuracy' : ['97.5%','72.25%','84.39%','96.92%'],\n",
    "    'F_Score' : ['0.975','0.761','0.839','0.969'],\n",
    "    'Recall' : ['0.975','0.723','0.844','0.969'],\n",
    "    'Precision' : ['0.975','0.859','0.837','0.970'],\n",
    "    'MCC' : ['0.945','0.558','0.65','0.933'],\n",
    "    'Cohens Kappa': ['0.945','0.524','0.648','0.933']\n",
    "}"
   ]
  },
  {
   "cell_type": "code",
   "execution_count": 65,
   "id": "3234127d-7f5c-4a8d-91df-e65b404840c0",
   "metadata": {},
   "outputs": [
    {
     "data": {
      "text/html": [
       "<div><div id=89b240dc-ff8f-496f-befc-c947d1e2f4eb style=\"display:none; background-color:#9D6CFF; color:white; width:200px; height:30px; padding-left:5px; border-radius:4px; flex-direction:row; justify-content:space-around; align-items:center;\" onmouseover=\"this.style.backgroundColor='#BA9BF8'\" onmouseout=\"this.style.backgroundColor='#9D6CFF'\" onclick=\"window.commands?.execute('create-mitosheet-from-dataframe-output');\">See Full Dataframe in Mito</div> <script> if (window.commands.hasCommand('create-mitosheet-from-dataframe-output')) document.getElementById('89b240dc-ff8f-496f-befc-c947d1e2f4eb').style.display = 'flex' </script> <table border=\"1\" class=\"dataframe\">\n",
       "  <thead>\n",
       "    <tr style=\"text-align: right;\">\n",
       "      <th></th>\n",
       "      <th>Model Name</th>\n",
       "      <th>Accuracy</th>\n",
       "      <th>F_Score</th>\n",
       "      <th>Recall</th>\n",
       "      <th>Precision</th>\n",
       "      <th>MCC</th>\n",
       "      <th>Cohens Kappa</th>\n",
       "    </tr>\n",
       "  </thead>\n",
       "  <tbody>\n",
       "    <tr>\n",
       "      <th>0</th>\n",
       "      <td>SVM</td>\n",
       "      <td>97.5%</td>\n",
       "      <td>0.975</td>\n",
       "      <td>0.975</td>\n",
       "      <td>0.975</td>\n",
       "      <td>0.945</td>\n",
       "      <td>0.945</td>\n",
       "    </tr>\n",
       "    <tr>\n",
       "      <th>1</th>\n",
       "      <td>Decision Tree</td>\n",
       "      <td>72.25%</td>\n",
       "      <td>0.761</td>\n",
       "      <td>0.723</td>\n",
       "      <td>0.859</td>\n",
       "      <td>0.558</td>\n",
       "      <td>0.524</td>\n",
       "    </tr>\n",
       "    <tr>\n",
       "      <th>2</th>\n",
       "      <td>Logistic Regression</td>\n",
       "      <td>84.39%</td>\n",
       "      <td>0.839</td>\n",
       "      <td>0.844</td>\n",
       "      <td>0.837</td>\n",
       "      <td>0.65</td>\n",
       "      <td>0.648</td>\n",
       "    </tr>\n",
       "    <tr>\n",
       "      <th>3</th>\n",
       "      <td>KNN</td>\n",
       "      <td>96.92%</td>\n",
       "      <td>0.969</td>\n",
       "      <td>0.969</td>\n",
       "      <td>0.970</td>\n",
       "      <td>0.933</td>\n",
       "      <td>0.933</td>\n",
       "    </tr>\n",
       "  </tbody>\n",
       "</table></div>"
      ],
      "text/plain": [
       "            Model Name Accuracy F_Score Recall Precision    MCC Cohens Kappa\n",
       "0                  SVM    97.5%   0.975  0.975     0.975  0.945        0.945\n",
       "1        Decision Tree   72.25%   0.761  0.723     0.859  0.558        0.524\n",
       "2  Logistic Regression   84.39%   0.839  0.844     0.837   0.65        0.648\n",
       "3                  KNN   96.92%   0.969  0.969     0.970  0.933        0.933"
      ]
     },
     "execution_count": 65,
     "metadata": {},
     "output_type": "execute_result"
    }
   ],
   "source": [
    "test_data_perf = pd.DataFrame(Results_test_data)\n",
    "test_data_perf"
   ]
  },
  {
   "cell_type": "code",
   "execution_count": null,
   "id": "cfa4f214-d60d-448f-8a2a-df774900e032",
   "metadata": {},
   "outputs": [],
   "source": [
    "### Bssed on the above results, it can be said that LNN and SVM are the best \n",
    "### performing becuase not only they have high accuracy but also high MCC and \n",
    "### Kappa. This leads to the conclusion that these models are able to \n",
    "### model the multiple classes effectively"
   ]
  },
  {
   "cell_type": "code",
   "execution_count": null,
   "id": "c028f522-0e3a-4405-9f09-04029f228c54",
   "metadata": {},
   "outputs": [],
   "source": []
  },
  {
   "cell_type": "code",
   "execution_count": null,
   "id": "e02a95c0-bfa4-404e-a888-655670f45974",
   "metadata": {},
   "outputs": [],
   "source": []
  },
  {
   "cell_type": "code",
   "execution_count": null,
   "id": "05c83af6-c60f-4925-b342-ebb5ec6e1145",
   "metadata": {},
   "outputs": [],
   "source": []
  },
  {
   "cell_type": "code",
   "execution_count": null,
   "id": "68da3463-14d2-406f-82c9-8545e11bc7fc",
   "metadata": {},
   "outputs": [],
   "source": []
  },
  {
   "cell_type": "code",
   "execution_count": null,
   "id": "d0557600-a8da-4a7b-bb9c-0e0afa48db83",
   "metadata": {},
   "outputs": [],
   "source": []
  },
  {
   "cell_type": "code",
   "execution_count": null,
   "id": "519f92b3-b19c-4c0a-82f0-ecfe7c99c763",
   "metadata": {},
   "outputs": [],
   "source": []
  },
  {
   "cell_type": "code",
   "execution_count": null,
   "id": "e08eac65-c7cd-4241-9d92-0d2659d5f334",
   "metadata": {},
   "outputs": [],
   "source": []
  },
  {
   "cell_type": "code",
   "execution_count": null,
   "id": "c57d3416-d742-448c-b60a-832a34334127",
   "metadata": {},
   "outputs": [],
   "source": []
  },
  {
   "cell_type": "code",
   "execution_count": null,
   "id": "6b90af83-9b30-4708-a741-19ea6c43c4d3",
   "metadata": {},
   "outputs": [],
   "source": []
  },
  {
   "cell_type": "code",
   "execution_count": null,
   "id": "9dead08f-c31d-4c1f-b931-9f9348ac2af1",
   "metadata": {},
   "outputs": [],
   "source": []
  },
  {
   "cell_type": "code",
   "execution_count": null,
   "id": "f6fa8b2c-6f2b-489c-90c0-504ecba430e1",
   "metadata": {},
   "outputs": [],
   "source": []
  },
  {
   "cell_type": "code",
   "execution_count": null,
   "id": "aa8ad235-a990-4724-a76b-676b93da71a6",
   "metadata": {},
   "outputs": [],
   "source": []
  },
  {
   "cell_type": "code",
   "execution_count": null,
   "id": "2d5db412-6105-4fd9-9ee0-512d30519e27",
   "metadata": {},
   "outputs": [],
   "source": []
  },
  {
   "cell_type": "code",
   "execution_count": null,
   "id": "460ce036-ad7f-4e92-a1ef-99a64687228d",
   "metadata": {},
   "outputs": [],
   "source": []
  },
  {
   "cell_type": "code",
   "execution_count": null,
   "id": "3d40d016-1b31-4de2-b037-e0ae00c65bec",
   "metadata": {},
   "outputs": [],
   "source": []
  }
 ],
 "metadata": {
  "kernelspec": {
   "display_name": "Python 3 (ipykernel)",
   "language": "python",
   "name": "python3"
  },
  "language_info": {
   "codemirror_mode": {
    "name": "ipython",
    "version": 3
   },
   "file_extension": ".py",
   "mimetype": "text/x-python",
   "name": "python",
   "nbconvert_exporter": "python",
   "pygments_lexer": "ipython3",
   "version": "3.8.8"
  }
 },
 "nbformat": 4,
 "nbformat_minor": 5
}
